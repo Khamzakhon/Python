{
 "cells": [
  {
   "cell_type": "markdown",
   "id": "e2e51144",
   "metadata": {},
   "source": [
    "1. Modify String with Underscores\n",
    "Given a string txt, insert an underscore (_) after every third character. If a character is a vowel or already has an underscore after it, shift the underscore placement to the next character. No underscore should be added at the end.\n",
    "\n",
    "Examples\n",
    "Input: hello Output: hel_lo\n",
    "\n",
    "Input: assalom Output: ass_alom\n",
    "\n",
    "Input: abcabcabcdeabcdefabcdefg Output: abc_abc_abcd_abcd_abcdef"
   ]
  },
  {
   "cell_type": "code",
   "execution_count": null,
   "id": "96b7756b",
   "metadata": {},
   "outputs": [
    {
     "name": "stdout",
     "output_type": "stream",
     "text": [
      "abc_abcab_cdeabcd_efabcdef_g\n"
     ]
    }
   ],
   "source": [
    "txt='abcabcabcdeabcdefabcdefg'\n",
    "vowels='aioeuAIOUE'\n",
    "cnt=0\n",
    "new_txt=''\n",
    "    \n",
    "for i in range(len(txt)):\n",
    "    cnt+=1\n",
    "    new_txt+=txt[i]\n",
    "    if cnt%3==0 and txt[i] not in vowels:\n",
    "        new_txt+='_' \n",
    "        cnt=0\n",
    "        vowels+=txt[i]\n",
    "    elif cnt%3==0 and txt[i] in vowels:\n",
    "        cnt-=1\n",
    "    \n",
    "    \n",
    "if new_txt[-1]=='_':\n",
    "    new_txt[:-1]\n",
    "print(new_txt)\n",
    "\n",
    "    \n"
   ]
  },
  {
   "cell_type": "markdown",
   "id": "170fbed7",
   "metadata": {},
   "source": [
    "2. Integer Squares Exercise\n",
    "Task\n",
    "The provided code stub reads an integer, n, from STDIN. For all non-negative integers i where 0 <= i < n, print i^2.\n",
    "\n",
    "Example Input\n",
    "5\n",
    "Example Output\n",
    "0\n",
    "1\n",
    "4\n",
    "9\n",
    "16\n",
    "Input Format\n",
    "The first and only line contains the integer, n.\n",
    "\n",
    "Constraints\n",
    "1 <= n <= 20\n",
    "Output Format\n",
    "Print n lines, one corresponding to each i^2 where 0 <= i < n."
   ]
  },
  {
   "cell_type": "code",
   "execution_count": 12,
   "id": "ee1c06fc",
   "metadata": {},
   "outputs": [
    {
     "name": "stdout",
     "output_type": "stream",
     "text": [
      "Please enter a number in range between 1 and 20!\n",
      "Please enter a number in range between 1 and 20!\n",
      "Please enter a number in range between 1 and 20!\n",
      "Please enter a number in range between 1 and 20!\n",
      "Please enter a number in range between 1 and 20!\n",
      "0\n",
      "1\n",
      "4\n",
      "9\n",
      "16\n",
      "25\n",
      "36\n"
     ]
    }
   ],
   "source": [
    "\n",
    "def squeared_nums():\n",
    "    num=int(input(\"please enter a value for n:\"))\n",
    "    if 1<=num<=20:\n",
    "        for i in range(num+1):\n",
    "            print(i**2)\n",
    "    else: \n",
    "        print(\"Please enter a number in range between 1 and 20!\")\n",
    "        squeared_nums()\n",
    "\n",
    "squeared_nums()\n",
    "        "
   ]
  },
  {
   "cell_type": "markdown",
   "id": "9360532f",
   "metadata": {},
   "source": [
    "3. Loop-Based Exercises\n",
    "Exercise 1: Print first 10 natural numbers using a while loop\n",
    "Exercise 2: Print the following pattern\n",
    "1\n",
    "1 2\n",
    "1 2 3\n",
    "1 2 3 4\n",
    "1 2 3 4 5"
   ]
  },
  {
   "cell_type": "code",
   "execution_count": 9,
   "id": "a3497d88",
   "metadata": {},
   "outputs": [
    {
     "name": "stdout",
     "output_type": "stream",
     "text": [
      "\n",
      "1 \n",
      "1 2 \n",
      "1 2 3 \n",
      "1 2 3 4 \n",
      "1 2 3 4 5 \n",
      "1 2 3 4 5 6 \n",
      "1 2 3 4 5 6 7 \n",
      "1 2 3 4 5 6 7 8 \n",
      "1 2 3 4 5 6 7 8 9 \n",
      "1 2 3 4 5 6 7 8 9 10 \n"
     ]
    }
   ],
   "source": [
    "n=10\n",
    "cnt=1\n",
    "for i in range(n+1):\n",
    "    while cnt<=i:\n",
    "        print(cnt, end=' ')\n",
    "        cnt+=1\n",
    "    print()\n",
    "    cnt=1"
   ]
  },
  {
   "cell_type": "markdown",
   "id": "9c929846",
   "metadata": {},
   "source": [
    "3. Exercise 3: Calculate sum of all numbers from 1 to a given number\n",
    "Example:\n",
    "\n",
    "Enter number 10\n",
    "Sum is: 55"
   ]
  },
  {
   "cell_type": "code",
   "execution_count": 14,
   "id": "e64ba5b6",
   "metadata": {},
   "outputs": [
    {
     "name": "stdout",
     "output_type": "stream",
     "text": [
      "55\n"
     ]
    }
   ],
   "source": [
    "num=int(input(\"please enter a number: \"))\n",
    "sum=0\n",
    "for i in range(1,num+1):\n",
    "    sum+=i\n",
    "\n",
    "print(sum)"
   ]
  },
  {
   "cell_type": "markdown",
   "id": "9b819d4c",
   "metadata": {},
   "source": [
    "Exercise 4: Print multiplication table of a given number\n",
    "Example:\n",
    "\n",
    "2\n",
    "4\n",
    "6\n",
    "8\n",
    "10\n",
    "12\n",
    "14\n",
    "16\n",
    "18\n",
    "20"
   ]
  },
  {
   "cell_type": "code",
   "execution_count": null,
   "id": "1b27d2a5",
   "metadata": {},
   "outputs": [
    {
     "name": "stdout",
     "output_type": "stream",
     "text": [
      "5\n",
      "10\n",
      "15\n",
      "20\n",
      "25\n",
      "30\n",
      "35\n",
      "40\n",
      "45\n",
      "50\n"
     ]
    }
   ],
   "source": [
    "num=int(input(\"please enter a number: \"))\n",
    "counter=1\n",
    "while counter<=10:\n",
    "    print(num*counter)\n",
    "    counter+=1\n"
   ]
  },
  {
   "cell_type": "markdown",
   "id": "5b6ec6b1",
   "metadata": {},
   "source": [
    "Exercise 5: Display numbers from a list using a loop\n",
    "Given:\n",
    "\n",
    "numbers = [12, 75, 150, 180, 145, 525, 50]\n"
   ]
  },
  {
   "cell_type": "code",
   "execution_count": 20,
   "id": "88f22143",
   "metadata": {},
   "outputs": [
    {
     "name": "stdout",
     "output_type": "stream",
     "text": [
      "12\n",
      "75\n",
      "150\n",
      "180\n",
      "145\n",
      "525\n",
      "50\n"
     ]
    }
   ],
   "source": [
    "numbers = [12, 75, 150, 180, 145, 525, 50]\n",
    "for i in range(len(numbers)):\n",
    "    print(numbers[i])"
   ]
  },
  {
   "cell_type": "markdown",
   "id": "35e75219",
   "metadata": {},
   "source": [
    "Exercise 6: Count the total number of digits in a number\n",
    "Example:\n",
    "\n",
    "75869\n",
    "Output: 5"
   ]
  },
  {
   "cell_type": "code",
   "execution_count": 5,
   "id": "b284af62",
   "metadata": {},
   "outputs": [
    {
     "name": "stdout",
     "output_type": "stream",
     "text": [
      "7\n"
     ]
    }
   ],
   "source": [
    "num=int(input(\"Please enter a number: \"))\n",
    "cnt=0\n",
    "devider=1\n",
    "while num/devider>=1:\n",
    "    cnt+=1\n",
    "    devider*=10\n",
    "\n",
    "print(cnt)"
   ]
  },
  {
   "cell_type": "markdown",
   "id": "b860806f",
   "metadata": {},
   "source": [
    "Exercise 7: Print reverse number pattern\n",
    "5 4 3 2 1\n",
    "4 3 2 1\n",
    "3 2 1\n",
    "2 1\n",
    "1"
   ]
  },
  {
   "cell_type": "code",
   "execution_count": 19,
   "id": "97a0b0ea",
   "metadata": {},
   "outputs": [
    {
     "name": "stdout",
     "output_type": "stream",
     "text": [
      "5 4 3 2 1 \n",
      "4 3 2 1 \n",
      "3 2 1 \n",
      "2 1 \n",
      "1 \n"
     ]
    }
   ],
   "source": [
    "num=int(input(\"Please enter a number: \"))\n",
    "\n",
    "while num>0:\n",
    "    for i in range(num):\n",
    "        print(num-i, end=' ')\n",
    "    print()\n",
    "    num-=1"
   ]
  },
  {
   "cell_type": "markdown",
   "id": "3f8dab0c",
   "metadata": {},
   "source": [
    "Exercise 8: Print list in reverse order using a loop\n",
    "Given:\n",
    "\n",
    "list1 = [10, 20, 30, 40, 50]"
   ]
  },
  {
   "cell_type": "code",
   "execution_count": 25,
   "id": "0ef90e53",
   "metadata": {},
   "outputs": [
    {
     "name": "stdout",
     "output_type": "stream",
     "text": [
      "50\n",
      "40\n",
      "30\n",
      "20\n",
      "10\n"
     ]
    }
   ],
   "source": [
    "list1 = [10, 20, 30, 40, 50]\n",
    "for i in range(len(list1)):\n",
    "    print(list1[len(list1)-i-1])"
   ]
  },
  {
   "cell_type": "markdown",
   "id": "ef4422d2",
   "metadata": {},
   "source": [
    "Exercise 9: Display numbers from -10 to -1 using a for loop\n",
    "-10\n",
    "-9\n",
    "-8\n",
    "-7\n",
    "-6\n",
    "-5\n",
    "-4\n",
    "-3\n",
    "-2\n",
    "-1"
   ]
  },
  {
   "cell_type": "code",
   "execution_count": 29,
   "id": "6f7dbe3e",
   "metadata": {},
   "outputs": [
    {
     "name": "stdout",
     "output_type": "stream",
     "text": [
      "-10\n",
      "-9\n",
      "-8\n",
      "-7\n",
      "-6\n",
      "-5\n",
      "-4\n",
      "-3\n",
      "-2\n",
      "-1\n"
     ]
    }
   ],
   "source": [
    "for i in range(-10,0):\n",
    "    print(i)\n"
   ]
  },
  {
   "cell_type": "markdown",
   "id": "23762206",
   "metadata": {},
   "source": [
    "Exercise 10: Display message “Done” after successful loop execution\n",
    "Example:\n",
    "\n",
    "0\n",
    "1\n",
    "2\n",
    "3\n",
    "4\n",
    "Done!"
   ]
  },
  {
   "cell_type": "code",
   "execution_count": 30,
   "id": "a9e5884a",
   "metadata": {},
   "outputs": [
    {
     "name": "stdout",
     "output_type": "stream",
     "text": [
      "0\n",
      "1\n",
      "2\n",
      "3\n",
      "4\n",
      "Done!\n"
     ]
    }
   ],
   "source": [
    "for i in range(5):\n",
    "    print(i)\n",
    "\n",
    "print(\"Done!\")"
   ]
  },
  {
   "cell_type": "markdown",
   "id": "35463f5f",
   "metadata": {},
   "source": [
    "Exercise 11: Print all prime numbers within a range\n",
    "Example:\n",
    "\n",
    "Prime numbers between 25 and 50:\n",
    "29\n",
    "31\n",
    "37\n",
    "41\n",
    "43\n",
    "47"
   ]
  },
  {
   "cell_type": "code",
   "execution_count": 1,
   "id": "d2dfcb4b",
   "metadata": {},
   "outputs": [
    {
     "name": "stdout",
     "output_type": "stream",
     "text": [
      "23\n",
      "29\n"
     ]
    }
   ],
   "source": [
    "n1=int(input(\"star point: \"))\n",
    "n2=int(input(\"end point: \"))\n",
    "cnt=0\n",
    "for i in range(n1,n2+1):\n",
    "    for j in range(1,i+1):\n",
    "        if i%j==0:\n",
    "            cnt+=1\n",
    "    if cnt==2:\n",
    "        print(j)\n",
    "    cnt=0\n",
    "    \n",
    "\n"
   ]
  },
  {
   "cell_type": "markdown",
   "id": "5f172697",
   "metadata": {},
   "source": [
    "12. Exercise 12: Display Fibonacci series up to 10 terms\n",
    "Example:\n",
    "\n",
    "Fibonacci sequence:\n",
    "0  1  1  2  3  5  8  13  21  34"
   ]
  },
  {
   "cell_type": "code",
   "execution_count": 8,
   "id": "0e1245bc",
   "metadata": {},
   "outputs": [
    {
     "name": "stdout",
     "output_type": "stream",
     "text": [
      "0 1 1 2 3 5 8 13 21 34 "
     ]
    }
   ],
   "source": [
    "a=0\n",
    "b=1\n",
    "for i in range(10):\n",
    "    print(a, end=' ')\n",
    "    a,b=b,a+b\n",
    "    "
   ]
  },
  {
   "cell_type": "markdown",
   "id": "dea7f082",
   "metadata": {},
   "source": [
    "Exercise 13: Find the factorial of a given number\n",
    "Example:\n",
    "\n",
    "5! = 120"
   ]
  },
  {
   "cell_type": "code",
   "execution_count": 12,
   "id": "5939e9f8",
   "metadata": {},
   "outputs": [
    {
     "name": "stdout",
     "output_type": "stream",
     "text": [
      "120\n"
     ]
    }
   ],
   "source": [
    "num=int(input(\"Please enter a number: \"))\n",
    "f=1\n",
    "for i in range(1,num+1):\n",
    "    f*=i\n",
    "print(f)"
   ]
  },
  {
   "cell_type": "markdown",
   "id": "fe74110f",
   "metadata": {},
   "source": [
    "4. Return Uncommon Elements of Lists\n",
    "Task\n",
    "Return the elements that are not common between two lists. The order of elements does not matter.\n",
    "\n",
    "Examples\n",
    "Input: list1 = [1, 1, 2], list2 = [2, 3, 4]\n",
    "Output: [1, 1, 3, 4]\n",
    "\n",
    "Input: list1 = [1, 2, 3], list2 = [4, 5, 6]\n",
    "Output: [1, 2, 3, 4, 5, 6]\n",
    "\n",
    "Input: list1 = [1, 1, 2, 3, 4, 2], list2 = [1, 3, 4, 5]\n",
    "Output: [2, 2, 5]\n"
   ]
  },
  {
   "cell_type": "code",
   "execution_count": 24,
   "id": "3f84558f",
   "metadata": {},
   "outputs": [
    {
     "name": "stdout",
     "output_type": "stream",
     "text": [
      "[1, 1, 3, 4]\n",
      "[1, 2, 3, 4, 5, 6]\n",
      "[2, 2, 5]\n"
     ]
    }
   ],
   "source": [
    "l11=[1,1,2]\n",
    "l12=[2,3,4]\n",
    "res=[]\n",
    "\n",
    "#uncommon elements from list 1\n",
    "for i in range(len(l11)):\n",
    "    if l11[i] not in l12:\n",
    "        res.append(l11[i])\n",
    "#uncommon elements form list 2\n",
    "for j in range(len(l12)):\n",
    "    if l12[j] not in l11:\n",
    "        res.append(l12[j])\n",
    "\n",
    "print(res)\n",
    "res=[]\n",
    "        \n",
    "l11=[1,2,3]\n",
    "l12=[4,5,6]\n",
    "\n",
    "#uncommon elements from list 1\n",
    "for i in range(len(l11)):\n",
    "    if l11[i] not in l12:\n",
    "        res.append(l11[i])\n",
    "#uncommon elements form list 2\n",
    "for j in range(len(l12)):\n",
    "    if l12[j] not in l11:\n",
    "        res.append(l12[j])\n",
    "\n",
    "print(res)\n",
    "res=[]\n",
    "\n",
    "\n",
    "l11=[1,1,2,3,4,2]\n",
    "l12=[1,3,4,5]\n",
    "\n",
    "#uncommon elements from list 1\n",
    "for i in range(len(l11)):\n",
    "    if l11[i] not in l12:\n",
    "        res.append(l11[i])\n",
    "#uncommon elements form list 2\n",
    "for j in range(len(l12)):\n",
    "    if l12[j] not in l11:\n",
    "        res.append(l12[j])\n",
    "\n",
    "print(res)"
   ]
  }
 ],
 "metadata": {
  "kernelspec": {
   "display_name": "Python 3",
   "language": "python",
   "name": "python3"
  },
  "language_info": {
   "codemirror_mode": {
    "name": "ipython",
    "version": 3
   },
   "file_extension": ".py",
   "mimetype": "text/x-python",
   "name": "python",
   "nbconvert_exporter": "python",
   "pygments_lexer": "ipython3",
   "version": "3.12.9"
  }
 },
 "nbformat": 4,
 "nbformat_minor": 5
}
