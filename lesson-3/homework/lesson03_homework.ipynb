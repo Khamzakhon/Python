{
 "cells": [
  {
   "cell_type": "markdown",
   "id": "2d8a5931",
   "metadata": {},
   "source": [
    "##Homework: List and Tuple Exercises"
   ]
  },
  {
   "cell_type": "markdown",
   "id": "42757d43",
   "metadata": {},
   "source": [
    "1. Create and Access List Elements\n",
    "Create a list containing five different fruits and print the third fruit."
   ]
  },
  {
   "cell_type": "code",
   "execution_count": 1,
   "id": "55ef05ed",
   "metadata": {},
   "outputs": [
    {
     "name": "stdout",
     "output_type": "stream",
     "text": [
      "strawberry\n"
     ]
    }
   ],
   "source": [
    "fruits=['aplle','orange','strawberry','watermelon','mango']\n",
    "print(fruits[2])"
   ]
  },
  {
   "cell_type": "markdown",
   "id": "cdcdd541",
   "metadata": {},
   "source": [
    "2. Concatenate Two Lists\n",
    "Create two lists of numbers and concatenate them into a single list."
   ]
  },
  {
   "cell_type": "code",
   "execution_count": 6,
   "id": "3ada22f2",
   "metadata": {},
   "outputs": [
    {
     "name": "stdout",
     "output_type": "stream",
     "text": [
      "['a', 'b', 'c', 'd', 'e', 'f', 'g', 'h']\n"
     ]
    }
   ],
   "source": [
    "list1=['a','b','c','d']\n",
    "list2=['e','f','g','h']\n",
    "concated_list=list1+list2\n",
    "print(concated_list)"
   ]
  },
  {
   "cell_type": "markdown",
   "id": "7e1f1a49",
   "metadata": {},
   "source": [
    "3. Extract Elements from a List\n",
    "Given a list of numbers, extract the first, middle, and last elements and store them in a new list."
   ]
  },
  {
   "cell_type": "code",
   "execution_count": 26,
   "id": "f05de414",
   "metadata": {},
   "outputs": [
    {
     "name": "stdout",
     "output_type": "stream",
     "text": [
      "2 5 4\n"
     ]
    }
   ],
   "source": [
    "nums=[2,4,3,5,6,23,53,4]\n",
    "if len(nums)%2==0:\n",
    "    print(nums[0],nums[int(len(nums)/2-1)],nums[len(nums)-1])\n",
    "else: print(nums[0],nums[int(len(nums)/2)],nums[len(nums)-1])"
   ]
  },
  {
   "cell_type": "markdown",
   "id": "1b7c18d4",
   "metadata": {},
   "source": [
    "4. Convert List to Tuple\n",
    "Create a list of your five favorite movies and convert it into a tuple"
   ]
  },
  {
   "cell_type": "code",
   "execution_count": 64,
   "id": "54cbb30e",
   "metadata": {},
   "outputs": [
    {
     "name": "stdout",
     "output_type": "stream",
     "text": [
      "(3, 2, 5, 4, 2, 3)\n"
     ]
    }
   ],
   "source": [
    "#list1=['five feet a part','home alone','travelling to the future','Stalker', 'mr ']\n",
    "list3=[3,2,5,4,2,3]\n",
    "my_tuple=(*list3,)\n",
    "print(my_tuple)\n"
   ]
  },
  {
   "cell_type": "markdown",
   "id": "0a948027",
   "metadata": {},
   "source": [
    "5. Check Element in a List\n",
    "Given a list of cities, check if \"Paris\" is in the list and print the result."
   ]
  },
  {
   "cell_type": "code",
   "execution_count": 67,
   "id": "25cda332",
   "metadata": {},
   "outputs": [
    {
     "name": "stdout",
     "output_type": "stream",
     "text": [
      "Paris is in the tuple\n"
     ]
    }
   ],
   "source": [
    "cities=('Paris','Milan','London','Moscow')\n",
    "city_check=str(input(\"Please enter a city you want to check in the tuple: \"))\n",
    "if city_check in cities:\n",
    "    print(f\"{city_check} is in the tuple\")\n",
    "else: print(f\"{city_check} is not in the tuple\")"
   ]
  },
  {
   "cell_type": "markdown",
   "id": "cb70932c",
   "metadata": {},
   "source": [
    "6. Create a list of numbers and duplicate it without using loops."
   ]
  },
  {
   "cell_type": "code",
   "execution_count": 69,
   "id": "54a9766f",
   "metadata": {},
   "outputs": [
    {
     "name": "stdout",
     "output_type": "stream",
     "text": [
      "[1, 4, 2, 6, 7, 3, 4, 2, 4, 1100, 1, 4, 2, 6, 7, 3, 4, 2, 4, 1100]\n"
     ]
    }
   ],
   "source": [
    "list6=[1,4,2,6,7,3,4,2,4,1100]\n",
    "print(list6*2)"
   ]
  },
  {
   "cell_type": "markdown",
   "id": "4a1bd053",
   "metadata": {},
   "source": [
    "7. Swap First and Last Elements of a List\n",
    "Given a list of numbers, swap the first and last elements."
   ]
  },
  {
   "cell_type": "code",
   "execution_count": 70,
   "id": "c590c523",
   "metadata": {},
   "outputs": [
    {
     "name": "stdout",
     "output_type": "stream",
     "text": [
      "[7, 2, 3, 4, 5, 6, 1]\n"
     ]
    }
   ],
   "source": [
    "list7=[1,2,3,4,5,6,7]\n",
    "list7[0],list7[len(list7)-1]=list7[len(list7)-1],list7[0]\n",
    "print(list7)"
   ]
  },
  {
   "cell_type": "markdown",
   "id": "7142b5b0",
   "metadata": {},
   "source": [
    "8. Slice a Tuple\n",
    "Create a tuple of numbers from 1 to 10 and print a slice from index 3 to 7."
   ]
  },
  {
   "cell_type": "code",
   "execution_count": 1,
   "id": "453d1c46",
   "metadata": {},
   "outputs": [
    {
     "name": "stdout",
     "output_type": "stream",
     "text": [
      "4\n",
      "5\n",
      "6\n",
      "7\n",
      "(4, 5, 6, 7)\n"
     ]
    }
   ],
   "source": [
    "#first solution - not that good \n",
    "tuple8=(1,2,3,4,5,6,7,8,9,10)\n",
    "for i in range(len(tuple8)):\n",
    "    if 3<=i<7:\n",
    "        print(tuple8[i])\n",
    "#solution2\n",
    "new_tuple8=(1,2,3,4,5,6,7,8,9,10)\n",
    "print(new_tuple8[3:7])\n"
   ]
  },
  {
   "cell_type": "markdown",
   "id": "1e289077",
   "metadata": {},
   "source": [
    "9. Count Occurrences in a List\n",
    "Create a list of colors and count how many times \"blue\" appears in the list."
   ]
  },
  {
   "cell_type": "code",
   "execution_count": 4,
   "id": "5e41fa4a",
   "metadata": {},
   "outputs": [
    {
     "name": "stdout",
     "output_type": "stream",
     "text": [
      "2\n"
     ]
    }
   ],
   "source": [
    "list9=['yellow','green','red','blue','blue','orange']\n",
    "cnt=0\n",
    "for i in list9:\n",
    "    if i=='blue':\n",
    "        cnt+=1\n",
    "print(cnt)"
   ]
  },
  {
   "cell_type": "markdown",
   "id": "be014ca6",
   "metadata": {},
   "source": [
    "10. Find the Index of an Element in a Tuple\n",
    "Given a tuple of animals, find the index of \"lion\"."
   ]
  },
  {
   "cell_type": "code",
   "execution_count": 6,
   "id": "8158ad44",
   "metadata": {},
   "outputs": [
    {
     "name": "stdout",
     "output_type": "stream",
     "text": [
      "4\n"
     ]
    }
   ],
   "source": [
    "animals=('frog','lion','tiger','cat','snake','chetah')\n",
    "print(animals.index('snake'))"
   ]
  },
  {
   "cell_type": "markdown",
   "id": "867b6288",
   "metadata": {},
   "source": [
    "11. Merge Two Tuples\n",
    "Create two tuples of numbers and merge them into a single tuple."
   ]
  },
  {
   "cell_type": "code",
   "execution_count": 8,
   "id": "ed174cf1",
   "metadata": {},
   "outputs": [
    {
     "name": "stdout",
     "output_type": "stream",
     "text": [
      "(1, 2, 3, 4, 5, 6, 100, 4, 2, 3, 4, 5, 6, 2, 4)\n"
     ]
    }
   ],
   "source": [
    "t1=(1,2,3,4,5,6,100)\n",
    "t2=(4,2,3,4,5,6,2,4,)\n",
    "merged_tuple=t1+t2\n",
    "print(merged_tuple)"
   ]
  },
  {
   "cell_type": "markdown",
   "id": "be7703bb",
   "metadata": {},
   "source": [
    "12. Find the Length of a List and Tuple\n",
    "Given a list and a tuple, find and print their lengths."
   ]
  },
  {
   "cell_type": "code",
   "execution_count": 10,
   "id": "9918a99a",
   "metadata": {},
   "outputs": [
    {
     "name": "stdout",
     "output_type": "stream",
     "text": [
      "23 10\n"
     ]
    }
   ],
   "source": [
    "list12=[5,34,2131,43,2,3,12,32,3,4,345,45,6,56,56,7,5,56,45,3,42,32,3]\n",
    "tuple12=(3,5,2,3,4,5,6,7,3,6)\n",
    "print(len(list12),len(tuple12))"
   ]
  },
  {
   "cell_type": "markdown",
   "id": "e8ef5f50",
   "metadata": {},
   "source": [
    "13. Convert Tuple to List\n",
    "Create a tuple of five numbers and convert it into a list."
   ]
  },
  {
   "cell_type": "code",
   "execution_count": 13,
   "id": "3c128011",
   "metadata": {},
   "outputs": [
    {
     "name": "stdout",
     "output_type": "stream",
     "text": [
      "[3, 4, 2, 3, 4]\n"
     ]
    }
   ],
   "source": [
    "tuple13=(3,4,2,3,4)\n",
    "list13=list(tuple13)\n",
    "print(list13)"
   ]
  },
  {
   "cell_type": "markdown",
   "id": "835f3533",
   "metadata": {},
   "source": [
    "14. Find Maximum and Minimum in a Tuple\n",
    "Given a tuple of numbers, find and print the maximum and minimum values."
   ]
  },
  {
   "cell_type": "code",
   "execution_count": 15,
   "id": "37f433fd",
   "metadata": {},
   "outputs": [
    {
     "name": "stdout",
     "output_type": "stream",
     "text": [
      "max = 35253\n",
      "max = 4\n"
     ]
    }
   ],
   "source": [
    "tuple14=(21,342,53,44,23,22,213,42,524,6,356,3254,23,4,1234,35253)\n",
    "print('max =',max(tuple14))\n",
    "print('max =',min(tuple14))\n"
   ]
  },
  {
   "cell_type": "markdown",
   "id": "0dfb5df9",
   "metadata": {},
   "source": [
    "15. Reverse a Tuple\n",
    "Create a tuple of words and print it in reverse order."
   ]
  },
  {
   "cell_type": "code",
   "execution_count": 25,
   "id": "c41df7e6",
   "metadata": {},
   "outputs": [
    {
     "name": "stdout",
     "output_type": "stream",
     "text": [
      "('Xusenjonivich', 'Nurilloev', 'Khamzakhon')\n"
     ]
    }
   ],
   "source": [
    "tuple15=('Khamzakhon','Nurilloev', 'Xusenjonivich')\n",
    "print(tuple15[::-1])"
   ]
  }
 ],
 "metadata": {
  "kernelspec": {
   "display_name": "Python 3",
   "language": "python",
   "name": "python3"
  },
  "language_info": {
   "codemirror_mode": {
    "name": "ipython",
    "version": 3
   },
   "file_extension": ".py",
   "mimetype": "text/x-python",
   "name": "python",
   "nbconvert_exporter": "python",
   "pygments_lexer": "ipython3",
   "version": "3.12.9"
  }
 },
 "nbformat": 4,
 "nbformat_minor": 5
}
