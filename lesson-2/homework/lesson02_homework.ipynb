{
 "cells": [
  {
   "cell_type": "markdown",
   "metadata": {},
   "source": [
    "#Task\n",
    "1. Age Calculator\n",
    "Write a Python program to ask for a user's name and year of birth, then calculate and display their age."
   ]
  },
  {
   "cell_type": "code",
   "execution_count": null,
   "metadata": {},
   "outputs": [
    {
     "name": "stdout",
     "output_type": "stream",
     "text": [
      "Mr/Ms ansdcasd your age is 25\n"
     ]
    }
   ],
   "source": [
    "from datetime import datetime\n",
    "name=str(input(\"Please enter your name: \")) \n",
    "year_of_birth=int(input(\"Enter your year of birth\"))\n",
    "while True:\n",
    "    \n",
    "    try:\n",
    "        age=datetime.now().year-year_of_birth\n",
    "        print(f\"Mr/Ms {name} your age is {age}\")\n",
    "        break\n",
    "    except: \n",
    "        print(\"You entered incorrect year of birth\")\n",
    "\n"
   ]
  },
  {
   "cell_type": "markdown",
   "metadata": {},
   "source": []
  },
  {
   "cell_type": "code",
   "execution_count": null,
   "metadata": {},
   "outputs": [
    {
     "name": "stdout",
     "output_type": "stream",
     "text": [
      "please enter a valid year of birth\n",
      "please enter a valid year of birth\n",
      "afocwenawoe you current age is 16\n"
     ]
    }
   ],
   "source": [
    "\n",
    "\n",
    "from datetime import datetime \n",
    "name=str(input(\"Please enter your name: \"))\n",
    "current_year=datetime.now().year\n",
    "while True: \n",
    "    try:\n",
    "        year_of_birth=int(input(\"Please enter your year of birth: \"))\n",
    "        if 1900<=year_of_birth<=datetime.now().year:\n",
    "            break\n",
    "        else: \n",
    "            print(\"please enter a valid year of birth\")\n",
    "\n",
    "    except ValueError: \n",
    "        print(\"Please try again!\")\n",
    "\n",
    "age=current_year-year_of_birth\n",
    "print(f\"{name} you current age is {age}\")\n",
    "\n",
    "\n",
    "\n",
    "\n"
   ]
  },
  {
   "cell_type": "markdown",
   "metadata": {},
   "source": [
    "2. Extract Car Names\n",
    "Extract car names from the following text:\n",
    "txt = 'LMaasleitbtui'"
   ]
  },
  {
   "cell_type": "code",
   "execution_count": 45,
   "metadata": {},
   "outputs": [
    {
     "name": "stdout",
     "output_type": "stream",
     "text": [
      "Lacetti\n",
      "Malibu\n"
     ]
    }
   ],
   "source": [
    "txt = 'LMaacleitbtui'\n",
    "print(txt[::2])\n",
    "print(txt[1::2])"
   ]
  },
  {
   "cell_type": "markdown",
   "metadata": {},
   "source": [
    "3. Extract Car Names\n",
    "Extract car names from the following text:\n",
    "txt = 'MsaatmiazD'"
   ]
  },
  {
   "cell_type": "code",
   "execution_count": 48,
   "metadata": {},
   "outputs": [
    {
     "name": "stdout",
     "output_type": "stream",
     "text": [
      "Matiz\n",
      "Damas\n"
     ]
    }
   ],
   "source": [
    "txt = 'MsaatmiazD'\n",
    "print(txt[::2])\n",
    "print(txt[::-2])"
   ]
  },
  {
   "cell_type": "markdown",
   "metadata": {},
   "source": [
    "4. Extract Residence Area\n",
    "Extract the residence area from the following text:\n",
    "txt = \"I'am John. I am from London\""
   ]
  },
  {
   "cell_type": "code",
   "execution_count": 73,
   "metadata": {},
   "outputs": [
    {
     "name": "stdout",
     "output_type": "stream",
     "text": [
      "London\n"
     ]
    }
   ],
   "source": [
    "txt = \"I'am John. I am from London\"\n",
    "txt_length=len(txt)\n",
    "print(txt[txt_length-6::1])"
   ]
  },
  {
   "cell_type": "markdown",
   "metadata": {},
   "source": [
    "5. Reverse String\n",
    "Write a Python program that takes a user input string and prints it in reverse order."
   ]
  },
  {
   "cell_type": "code",
   "execution_count": 76,
   "metadata": {},
   "outputs": [
    {
     "name": "stdout",
     "output_type": "stream",
     "text": [
      "nohkazmahK\n"
     ]
    }
   ],
   "source": [
    "x=str(input(\"Please enter anything you want to get it written in a reverse order: \"))\n",
    "print(x[::-1])"
   ]
  },
  {
   "cell_type": "markdown",
   "metadata": {},
   "source": [
    "6. Count Vowels\n",
    "Write a Python program that counts the number of vowels in a given string."
   ]
  },
  {
   "cell_type": "code",
   "execution_count": 98,
   "metadata": {},
   "outputs": [
    {
     "name": "stdout",
     "output_type": "stream",
     "text": [
      "3\n"
     ]
    }
   ],
   "source": [
    "def cnt(string):\n",
    "    vowels=\"aeiouAEIOU\"\n",
    "    return sum(1 for char in string if char in vowels)\n",
    "\n",
    "print(cnt(input(\"Please enter a text to count vowels in it: \"))) "
   ]
  },
  {
   "cell_type": "markdown",
   "metadata": {},
   "source": [
    "7. Find Maximum Value\n",
    "Write a Python program that takes a list of numbers as input and prints the maximum value."
   ]
  },
  {
   "cell_type": "code",
   "execution_count": 104,
   "metadata": {},
   "outputs": [
    {
     "name": "stdout",
     "output_type": "stream",
     "text": [
      "Please input 3 numbers to find the maximum among them: \n"
     ]
    },
    {
     "data": {
      "text/plain": [
       "789.0"
      ]
     },
     "execution_count": 104,
     "metadata": {},
     "output_type": "execute_result"
    }
   ],
   "source": [
    "print(\"Please input 3 numbers to find the maximum among them: \")\n",
    "a=float(input(\"Enter your first number: \"))\n",
    "b=float(input(\"Enter your second number: \"))\n",
    "c=float(input(\"Enter your third number: \"))\n",
    "max(a,b,c)"
   ]
  },
  {
   "cell_type": "markdown",
   "metadata": {},
   "source": [
    "8. Check Palindrome\n",
    "Write a Python program that checks if a given word is a palindrome (reads the same forward and backward)."
   ]
  },
  {
   "cell_type": "code",
   "execution_count": 109,
   "metadata": {},
   "outputs": [
    {
     "name": "stdout",
     "output_type": "stream",
     "text": [
      "Enter value is a polydrom\n"
     ]
    }
   ],
   "source": [
    "var=input(\"Please enter any text to check if it is a polydrom: \")\n",
    "var=var.lower()\n",
    "check_var=var[::-1]\n",
    "if var==check_var:\n",
    "    print(f\"Enter value is a polydrom\")\n",
    "else: print(\"Entered value is not a polydrom\")"
   ]
  },
  {
   "cell_type": "code",
   "execution_count": 120,
   "metadata": {},
   "outputs": [
    {
     "name": "stdout",
     "output_type": "stream",
     "text": [
      "asdffdsa is a polydrom\n"
     ]
    }
   ],
   "source": [
    "def check_for_polydorms(word):\n",
    "    word=word.lower()\n",
    "    return word==word[::-1]\n",
    "\n",
    "word=input(\"Enter a word: \")\n",
    "if check_for_polydorms(word):\n",
    "    print(f\"{word} is a polydrom\")\n",
    "else: \n",
    "    print(f\"{word} is not a polydrom\")"
   ]
  },
  {
   "cell_type": "markdown",
   "metadata": {},
   "source": [
    "9. Extract Email Domain\n",
    "Write a Python program that extracts and prints the domain from an email address provided by the user."
   ]
  },
  {
   "cell_type": "code",
   "execution_count": 21,
   "metadata": {},
   "outputs": [
    {
     "name": "stdout",
     "output_type": "stream",
     "text": [
      "the domain of the entered email is \"casvasdfvadsfov\" \n"
     ]
    }
   ],
   "source": [
    "word=input(\"Please enter your email: \")\n",
    "dog='@'\n",
    "dog_index=word.index('@')\n",
    "word_len=len(word)\n",
    "domain_len=word.index('.')\n",
    "print(f\"\"\"the domain of the entered email is \"{word[dog_index+1:domain_len:1]}\" \"\"\")"
   ]
  },
  {
   "cell_type": "markdown",
   "metadata": {},
   "source": [
    "10. Generate Random Password\n",
    "Write a Python program to generate a random password containing letters, digits, and special characters."
   ]
  },
  {
   "cell_type": "code",
   "execution_count": 36,
   "metadata": {},
   "outputs": [
    {
     "name": "stdout",
     "output_type": "stream",
     "text": [
      "0QFjNkQ)q_V:\n"
     ]
    }
   ],
   "source": [
    "##this soulution is from CHATGPT I could not do it myself\n",
    "\n",
    "import random\n",
    "import string\n",
    "\n",
    "# Define the character pool\n",
    "characters = string.ascii_letters + string.digits + string.punctuation\n",
    "\n",
    "# Generate a 12-character password\n",
    "password = ''.join(random.choice(characters) for i in range(12))\n",
    "print(password)\n"
   ]
  }
 ],
 "metadata": {
  "kernelspec": {
   "display_name": "Python 3",
   "language": "python",
   "name": "python3"
  },
  "language_info": {
   "codemirror_mode": {
    "name": "ipython",
    "version": 3
   },
   "file_extension": ".py",
   "mimetype": "text/x-python",
   "name": "python",
   "nbconvert_exporter": "python",
   "pygments_lexer": "ipython3",
   "version": "3.12.9"
  }
 },
 "nbformat": 4,
 "nbformat_minor": 2
}
