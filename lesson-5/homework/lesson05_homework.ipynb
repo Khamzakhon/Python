{
 "cells": [
  {
   "cell_type": "markdown",
   "id": "94f33713",
   "metadata": {},
   "source": [
    "\n",
    "1. def is_leap(year): \"\"\" Determines whether a given year is a leap year.\n",
    "\n",
    "A year is a leap year if:\n",
    "- It is divisible by 4, and\n",
    "- It is NOT divisible by 100, unless it is also divisible by 400.\n",
    "\n",
    "Parameters:\n",
    "year (int): The year to be checked.\n",
    "\n",
    "Returns:\n",
    "bool: True if the year is a leap year, False otherwise.\n",
    "\"\"\"\n",
    "if not isinstance(year, int):\n",
    "    raise ValueError(\"Year must be an integer.\")\n",
    "\n",
    "return (year % 4 == 0 and year % 100 != 0) or (year % 400 == 0)"
   ]
  },
  {
   "cell_type": "code",
   "execution_count": 11,
   "id": "16837403",
   "metadata": {},
   "outputs": [
    {
     "name": "stdout",
     "output_type": "stream",
     "text": [
      "please enter a year not a string value!\n",
      "789 is not a leap year!\n"
     ]
    }
   ],
   "source": [
    "def is_leapyear(year):\n",
    "    if year%400==0 or (year%4==0 and year%100!=0):\n",
    "        print(f\"{year} is a leap year!\")\n",
    "    else: \n",
    "        print(f\"{year} is not a leap year!\")\n",
    "\n",
    "while True: \n",
    "    try: \n",
    "        year=int(input(\"Please enter a year to check if it is a leap year: \"))\n",
    "        is_leapyear(year)\n",
    "        break\n",
    "    except ValueError:\n",
    "        print(\"please enter a year not a string value!\")\n",
    "\n"
   ]
  },
  {
   "cell_type": "markdown",
   "id": "4f03b019",
   "metadata": {},
   "source": [
    "2. Conditional Statements Exercise\n",
    "Given an integer, n, perform the following conditional actions:\n",
    "\n",
    "If n is odd, print Weird\n",
    "If n is even and in the inclusive range of 2 to 5, print Not Weird\n",
    "If n is even and in the inclusive range of 6 to 20, print Weird\n",
    "If n is even and greater than 20, print Not Weird\n",
    "Input Format\n",
    "A single line containing a positive integer, n.\n",
    "\n",
    "Constraints\n",
    "1 <= n <= 100\n",
    "Output Format\n",
    "Print Weird if the number is weird. Otherwise, print Not Weird.\n",
    "\n",
    "Sample Input 0\n",
    "3\n",
    "Sample Output 0\n",
    "Weird"
   ]
  },
  {
   "cell_type": "code",
   "execution_count": null,
   "id": "56c6c46e",
   "metadata": {},
   "outputs": [
    {
     "name": "stdout",
     "output_type": "stream",
     "text": [
      "Please give a number in range from 1 to 100: \n",
      "Entered a number in an incorrect format: \n",
      "Entered a number in an incorrect format: \n",
      "Please give a number in range from 1 to 100: \n",
      "Entered a number in an incorrect format: \n",
      "Weird3\n"
     ]
    }
   ],
   "source": [
    "def str_weird(num):\n",
    "    if 1<=num<=100:\n",
    "        if num%2==1:\n",
    "            print(\"Weird1\")\n",
    "        elif num%2==0 and 2<=num<=5:\n",
    "            print(\"Not weird2\") \n",
    "        elif num%2==0 and 6<=num<=20:\n",
    "            print(\"Weird3\") \n",
    "        else: \n",
    "            print(\"Not weird4\")\n",
    "    else: \n",
    "        print(\"Please give a number in range from 1 to 100: \")\n",
    "\n",
    "        new_function()\n",
    "\n",
    "def new_function():\n",
    "    while True:\n",
    "        try: \n",
    "            num=int(input(\"Please enter a number: \"))\n",
    "            str_weird(num)\n",
    "            break\n",
    "        except ValueError:\n",
    "            print(\"You entered an invalid number format: \")\n",
    "\n",
    "new_function()\n"
   ]
  },
  {
   "cell_type": "markdown",
   "id": "fb3bc344",
   "metadata": {},
   "source": []
  },
  {
   "cell_type": "markdown",
   "id": "84fd6119",
   "metadata": {},
   "source": [
    "3. Given two integer numbers a and b. Find even numbers between this numbers. a and b are inclusive. Don't use loop.\n",
    "Give two solutions.\n",
    "\n",
    "Solution 1 with if-else statement.\n",
    "\n",
    "Solution 2 without if-else statement."
   ]
  },
  {
   "cell_type": "code",
   "execution_count": 11,
   "id": "de99c500",
   "metadata": {},
   "outputs": [
    {
     "data": {
      "text/plain": [
       "[2,\n",
       " 4,\n",
       " 6,\n",
       " 8,\n",
       " 10,\n",
       " 12,\n",
       " 14,\n",
       " 16,\n",
       " 18,\n",
       " 20,\n",
       " 22,\n",
       " 24,\n",
       " 26,\n",
       " 28,\n",
       " 30,\n",
       " 32,\n",
       " 34,\n",
       " 36,\n",
       " 38,\n",
       " 40,\n",
       " 42,\n",
       " 44,\n",
       " 46,\n",
       " 48,\n",
       " 50]"
      ]
     },
     "execution_count": 11,
     "metadata": {},
     "output_type": "execute_result"
    }
   ],
   "source": [
    "def test2(a,b):\n",
    "    a += (a%2)\n",
    "    b -= (b%2)\n",
    "    return list(range(a,b+1,2))\n",
    "test2(2,50)"
   ]
  },
  {
   "cell_type": "code",
   "execution_count": 9,
   "id": "4fcce8ec",
   "metadata": {},
   "outputs": [
    {
     "name": "stdout",
     "output_type": "stream",
     "text": [
      "4\n",
      "6\n",
      "8\n",
      "10\n",
      "12\n",
      "14\n",
      "16\n",
      "18\n",
      "20\n",
      "22\n",
      "24\n",
      "26\n",
      "28\n",
      "30\n",
      "32\n",
      "34\n",
      "36\n",
      "38\n",
      "40\n",
      "42\n",
      "44\n",
      "46\n",
      "48\n",
      "50\n"
     ]
    }
   ],
   "source": [
    "def test(a,b):\n",
    "    if a > b:\n",
    "        return\n",
    "    else:\n",
    "        if a % 2 == 0:\n",
    "            print(a)\n",
    "        test(a+1,b)\n",
    "test(3,50)\n"
   ]
  }
 ],
 "metadata": {
  "kernelspec": {
   "display_name": "Python 3",
   "language": "python",
   "name": "python3"
  },
  "language_info": {
   "codemirror_mode": {
    "name": "ipython",
    "version": 3
   },
   "file_extension": ".py",
   "mimetype": "text/x-python",
   "name": "python",
   "nbconvert_exporter": "python",
   "pygments_lexer": "ipython3",
   "version": "3.12.9"
  }
 },
 "nbformat": 4,
 "nbformat_minor": 5
}
