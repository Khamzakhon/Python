{
 "cells": [
  {
   "cell_type": "markdown",
   "metadata": {},
   "source": [
    "##Task\n",
    "Homework:\n",
    "\n",
    "Given a side of square. Find its perimeter and area.\n",
    "Given diameter of circle. Find its length.\n",
    "Given two numbers a and b. Find their mean.\n",
    "Given two numbers a and b. Find their sum, product and square of each number."
   ]
  },
  {
   "cell_type": "code",
   "execution_count": null,
   "metadata": {},
   "outputs": [
    {
     "data": {
      "text/plain": [
       "'P=40'"
      ]
     },
     "execution_count": 5,
     "metadata": {},
     "output_type": "execute_result"
    }
   ],
   "source": [
    "#Puzzle1\n",
    "a=int(input(\"Give a side of a square: \"))\n",
    "P=4*a\n",
    "f\"P={P}\""
   ]
  },
  {
   "cell_type": "code",
   "execution_count": 8,
   "metadata": {},
   "outputs": [
    {
     "data": {
      "text/plain": [
       "'The length of the circle is 188.49555921538757'"
      ]
     },
     "execution_count": 8,
     "metadata": {},
     "output_type": "execute_result"
    }
   ],
   "source": [
    "#Puzzle2 \n",
    "import math\n",
    "R=int(input(\"Enter the radius of a circle: \"))\n",
    "C=2*R*math.pi\n",
    "f\"The length of the circle is {C}\""
   ]
  },
  {
   "cell_type": "code",
   "execution_count": null,
   "metadata": {},
   "outputs": [
    {
     "data": {
      "text/plain": [
       "'The mean of these two numbers is 3.5'"
      ]
     },
     "execution_count": 9,
     "metadata": {},
     "output_type": "execute_result"
    }
   ],
   "source": [
    "#Puzzle3 \n",
    "a=int(input(\"Enter the first number: \"))\n",
    "b=int(input(\"Enter the first number: \"))\n",
    "m=(a+b)/2\n",
    "f\"The mean of these two numbers is {m}\"\n"
   ]
  },
  {
   "cell_type": "code",
   "execution_count": 15,
   "metadata": {},
   "outputs": [
    {
     "name": "stdout",
     "output_type": "stream",
     "text": [
      "The sum of these two numbers is 9\n",
      "The product of these two numbers is 20\n",
      "The square of these the first number is 16\n",
      "The square of these the second number is 25\n"
     ]
    }
   ],
   "source": [
    "#Puzzle4\n",
    "a=int(input(\"Enter the first number: \"))\n",
    "b=int(input(\"Enter the first number: \"))\n",
    "sum=a+b\n",
    "product=a*b\n",
    "A=a*a\n",
    "B=b*b\n",
    "\n",
    "print(f\"The sum of these two numbers is {sum}\")\n",
    "print(f\"The product of these two numbers is {product}\")\n",
    "print(f\"The square of these the first number is {A}\")\n",
    "print(f\"The square of these the second number is {B}\")"
   ]
  },
  {
   "cell_type": "code",
   "execution_count": null,
   "metadata": {},
   "outputs": [],
   "source": []
  }
 ],
 "metadata": {
  "kernelspec": {
   "display_name": "Python 3",
   "language": "python",
   "name": "python3"
  },
  "language_info": {
   "codemirror_mode": {
    "name": "ipython",
    "version": 3
   },
   "file_extension": ".py",
   "mimetype": "text/x-python",
   "name": "python",
   "nbconvert_exporter": "python",
   "pygments_lexer": "ipython3",
   "version": "3.12.9"
  }
 },
 "nbformat": 4,
 "nbformat_minor": 2
}
