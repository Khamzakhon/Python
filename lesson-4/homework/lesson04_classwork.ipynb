{
 "cells": [
  {
   "cell_type": "code",
   "execution_count": 12,
   "id": "d7e74d99",
   "metadata": {},
   "outputs": [
    {
     "name": "stdout",
     "output_type": "stream",
     "text": [
      "['__add__', '__class__', '__class_getitem__', '__contains__', '__delattr__', '__delitem__', '__dir__', '__doc__', '__eq__', '__format__', '__ge__', '__getattribute__', '__getitem__', '__getstate__', '__gt__', '__hash__', '__iadd__', '__imul__', '__init__', '__init_subclass__', '__iter__', '__le__', '__len__', '__lt__', '__mul__', '__ne__', '__new__', '__reduce__', '__reduce_ex__', '__repr__', '__reversed__', '__rmul__', '__setattr__', '__setitem__', '__sizeof__', '__str__', '__subclasshook__', 'append', 'clear', 'copy', 'count', 'extend', 'index', 'insert', 'pop', 'remove', 'reverse', 'sort']\n"
     ]
    }
   ],
   "source": []
  },
  {
   "cell_type": "markdown",
   "id": "49146e5d",
   "metadata": {},
   "source": [
    "Python Dictionary and Set Exercises\n",
    "Dictionary Exercises\n",
    "\n",
    "1. Sort a Dictionary by Value\n",
    "Write a Python script to sort (ascending and descending) a dictionary by value."
   ]
  },
  {
   "cell_type": "code",
   "execution_count": null,
   "id": "c1bc5a52",
   "metadata": {},
   "outputs": [
    {
     "name": "stdout",
     "output_type": "stream",
     "text": [
      "ascending sorder values:  ['Dushanbe', 'Moscow', 'Tashkent', 'Washington D.C.']\n",
      "descending sorder values:  ['Washington D.C.', 'Tashkent', 'Dushanbe', 'Moscow']\n"
     ]
    }
   ],
   "source": [
    "my_dictionary={'Russia':'Moscow',\n",
    "               'Tajikistan':'Dushanbe',\n",
    "               'Uzbekistan':'Tashkent',\n",
    "               'USA':'Washington D.C.'}\n",
    "acs_sorted_dic_values=sorted(my_dictionary.values())\n",
    "decs_sorted_dic_values=list(reversed(my_dictionary.values()))\n",
    "print('ascending sorder values: ',acs_sorted_dic_values)\n",
    "print('descending sorder values: ',decs_sorted_dic_values)\n"
   ]
  },
  {
   "cell_type": "markdown",
   "id": "4c5e9b40",
   "metadata": {},
   "source": [
    "2. Add a Key to a Dictionary\n",
    "Write a Python script to add a key to a dictionary.\n",
    "\n",
    "Sample Dictionary:\n",
    "\n",
    "{0: 10, 1: 20}\n",
    "Expected Result:\n",
    "\n",
    "{0: 10, 1: 20, 2: 30}"
   ]
  },
  {
   "cell_type": "code",
   "execution_count": null,
   "id": "d9b93add",
   "metadata": {},
   "outputs": [
    {
     "name": "stdout",
     "output_type": "stream",
     "text": [
      "{'Name': 'Khamzakhon', 'Age': 22, 'Marriage': 'Unmarried', 'Gender': 'Male'}\n",
      "{'Name': 'Khamzakhon', 'Age': 22, 'Marriage': 'Unmarried', 'Gender': 'Male', 'Satus': 'Rich'}\n"
     ]
    }
   ],
   "source": [
    "dic1={'Name':'Khamzakhon',\n",
    "      'Age':22}\n",
    "dic1.update({'Marriage':'Unmarried','Gender':'Male'})\n",
    "print(dic1)\n",
    "\n",
    "#second method\n",
    "dic1['Satus'] = 'Rich'  # Directly assign key and value\n",
    "print(dic1)"
   ]
  },
  {
   "cell_type": "markdown",
   "id": "69eedbde",
   "metadata": {},
   "source": [
    "3. Concatenate Multiple Dictionaries\n",
    "Write a Python script to concatenate the following dictionaries to create a new one.\n",
    "\n",
    "Sample Dictionaries:\n",
    "\n",
    "dic1 = {1: 10, 2: 20}\n",
    "dic2 = {3: 30, 4: 40}\n",
    "dic3 = {5: 50, 6: 60}\n",
    "Expected Result:\n",
    "\n",
    "{1: 10, 2: 20, 3: 30, 4: 40, 5: 50, 6: 60}"
   ]
  },
  {
   "cell_type": "code",
   "execution_count": 8,
   "id": "cfc1dd44",
   "metadata": {},
   "outputs": [
    {
     "name": "stdout",
     "output_type": "stream",
     "text": [
      "{1: 10, 2: 20, 3: 30, 4: 40, 5: 50, 6: 60}\n"
     ]
    }
   ],
   "source": [
    "dic1 = {1: 10, 2: 20}\n",
    "dic2 = {3: 30, 4: 40}\n",
    "dic3 = {5: 50, 6: 60}\n",
    "\n",
    "combined_d={**dic1,**dic2,**dic3}\n",
    "\n",
    "print(combined_d)\n"
   ]
  },
  {
   "cell_type": "markdown",
   "id": "998fc820",
   "metadata": {},
   "source": [
    "4. Generate a Dictionary with Squares\n",
    "Write a Python script to generate and print a dictionary that contains a number (between 1 and n) in the form (x, x*x).\n",
    "\n",
    "Sample Dictionary (n = 5):\n",
    "\n",
    "{1: 1, 2: 4, 3: 9, 4: 16, 5: 25}"
   ]
  },
  {
   "cell_type": "code",
   "execution_count": 22,
   "id": "5139208d",
   "metadata": {},
   "outputs": [
    {
     "name": "stdout",
     "output_type": "stream",
     "text": [
      "{1: 1, 2: 4, 3: 9, 4: 16, 5: 25, 6: 36, 7: 49, 8: 64, 9: 81}\n"
     ]
    }
   ],
   "source": [
    "n=int(input(\"Please enter a nubmer: \"))\n",
    "squared_nums={x:x**2 for x in range(1,n+1) }\n",
    "print(squared_nums)"
   ]
  },
  {
   "cell_type": "markdown",
   "id": "a5c21fe0",
   "metadata": {},
   "source": [
    "Dictionary of Squares (1 to 15)\n",
    "Write a Python script to print a dictionary where the keys are numbers between 1 and 15 (both included) and the values are the square of the keys.\n",
    "\n",
    "Expected Output:"
   ]
  },
  {
   "cell_type": "code",
   "execution_count": 24,
   "id": "2bad4c08",
   "metadata": {},
   "outputs": [
    {
     "name": "stdout",
     "output_type": "stream",
     "text": [
      "{1: 1, 2: 4, 3: 9, 4: 16, 5: 25, 6: 36, 7: 49, 8: 64, 9: 81, 10: 100, 11: 121, 12: 144, 13: 169, 14: 196, 15: 225}\n"
     ]
    }
   ],
   "source": [
    "squared_nums={x:x**2 for x in range(1,16) }\n",
    "print(squared_nums)"
   ]
  },
  {
   "cell_type": "markdown",
   "id": "2f35b5cd",
   "metadata": {},
   "source": [
    "1. Create a Set\n",
    "Write a Python program to create a set."
   ]
  },
  {
   "cell_type": "code",
   "execution_count": 27,
   "id": "5d9c54bd",
   "metadata": {},
   "outputs": [
    {
     "name": "stdout",
     "output_type": "stream",
     "text": [
      "{1, 2, 3, 4, 5}\n",
      "{2, 3, 34, 5, 6}\n"
     ]
    }
   ],
   "source": [
    "s1=set([1,2,3,4,5])\n",
    "print(s1)\n",
    "#second solution\n",
    "s2={3,34,5,6,2,3}\n",
    "print(s2)"
   ]
  },
  {
   "cell_type": "markdown",
   "id": "330ec0d0",
   "metadata": {},
   "source": [
    "2. Iterate Over a Set\n",
    "Write a Python program to iterate over sets."
   ]
  },
  {
   "cell_type": "code",
   "execution_count": 28,
   "id": "dac601c0",
   "metadata": {},
   "outputs": [
    {
     "name": "stdout",
     "output_type": "stream",
     "text": [
      "1\n",
      "2\n",
      "3\n",
      "4\n",
      "5\n"
     ]
    }
   ],
   "source": [
    "s1=set([1,2,3,4,5])\n",
    "for i in s1:\n",
    "    print(i)\n"
   ]
  },
  {
   "cell_type": "markdown",
   "id": "c0222be4",
   "metadata": {},
   "source": [
    "3. Add Member(s) to a Set\n",
    "Write a Python program to add member(s) to a set."
   ]
  },
  {
   "cell_type": "code",
   "execution_count": 52,
   "id": "2074a4da",
   "metadata": {},
   "outputs": [
    {
     "name": "stdout",
     "output_type": "stream",
     "text": [
      "{1, 2, 3, 4, 5, 6, 7, 8, 9, 2134}\n"
     ]
    }
   ],
   "source": [
    "l1=set({1,2,3,4,5,6,7,8,9})\n",
    "l1.add(2134)\n",
    "print(l1)"
   ]
  },
  {
   "cell_type": "markdown",
   "id": "78304623",
   "metadata": {},
   "source": [
    "4. Remove Item(s) from a Set\n",
    "Write a Python program to remove item(s) from a given set."
   ]
  },
  {
   "cell_type": "code",
   "execution_count": 53,
   "id": "957a577f",
   "metadata": {},
   "outputs": [
    {
     "name": "stdout",
     "output_type": "stream",
     "text": [
      "{'Makhsumakhon', 'Khamzakhon', 'Robiya'}\n"
     ]
    }
   ],
   "source": [
    "l4=set({'Khamzakhon','Robiya','Makhsumakhon','Shaxrizoda'})\n",
    "l4.remove('Shaxrizoda')\n",
    "print(l4)"
   ]
  },
  {
   "cell_type": "markdown",
   "id": "2ab69c09",
   "metadata": {},
   "source": [
    "5. Remove an Item if Present in the Set\n",
    "Write a Python program to remove an item from a set if it is present in the set."
   ]
  },
  {
   "cell_type": "code",
   "execution_count": 56,
   "id": "449956f3",
   "metadata": {},
   "outputs": [
    {
     "name": "stdout",
     "output_type": "stream",
     "text": [
      "{'Makhsumakhon', 'Khamzakhon', 'Robiya', 'Shaxrizoda'}\n"
     ]
    }
   ],
   "source": [
    "l4=set({'Khamzakhon','Robiya','Makhsumakhon','Shaxrizoda'})\n",
    "l4.discard('Fatima')\n",
    "print(l4)"
   ]
  }
 ],
 "metadata": {
  "kernelspec": {
   "display_name": "Python 3",
   "language": "python",
   "name": "python3"
  },
  "language_info": {
   "codemirror_mode": {
    "name": "ipython",
    "version": 3
   },
   "file_extension": ".py",
   "mimetype": "text/x-python",
   "name": "python",
   "nbconvert_exporter": "python",
   "pygments_lexer": "ipython3",
   "version": "3.12.9"
  }
 },
 "nbformat": 4,
 "nbformat_minor": 5
}
