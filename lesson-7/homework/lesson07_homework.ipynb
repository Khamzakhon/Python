{
 "cells": [
  {
   "cell_type": "markdown",
   "id": "ca7acb91",
   "metadata": {},
   "source": [
    "1. is_prime(n) funksiyasi\n",
    "is_prime(n) funksiyasini hosil qiling (n > 0). Agar n soni tub bo'lsa True, aks holda False qiymat qaytarsin.\n",
    "\n",
    "Misollar:\n",
    "Kiritish:\n",
    "4\n",
    "Natija:\n",
    "False\n",
    "(Izoh: 4 soni tub emas, chunki u 2 ga bo'linadi.)\n",
    "\n",
    "Kiritish:\n",
    "7\n",
    "Natija:\n",
    "True\n",
    "(Izoh: 7 soni faqat 1 va o'ziga bo'linadi, ya'ni tub son.)"
   ]
  },
  {
   "cell_type": "code",
   "execution_count": 7,
   "id": "09d6090d",
   "metadata": {},
   "outputs": [
    {
     "name": "stdout",
     "output_type": "stream",
     "text": [
      "1 is not a prime number\n"
     ]
    }
   ],
   "source": [
    "def is_prime(n):\n",
    "    cnt=0\n",
    "    for i in range(1,n+1):\n",
    "        if  n%i==0:\n",
    "            cnt+=1\n",
    "    if cnt==2:\n",
    "        print(f\"{n} is a prime number\")        \n",
    "    else: \n",
    "        print(f\"{n} is not a prime number\")        \n",
    "\n",
    "def val_n():\n",
    "      while True: \n",
    "        try:\n",
    "            n=int(input(\"Please input value for n: \"))\n",
    "            is_prime(n)\n",
    "            break\n",
    "        except:\n",
    "             print(\"Please enter a valid number and try again!\")\n",
    "\n",
    "val_n()\n",
    "\n",
    "\n"
   ]
  },
  {
   "cell_type": "markdown",
   "id": "d20590b0",
   "metadata": {},
   "source": [
    "2. digit_sum(k) funksiyasi\n",
    "digit_sum(k) funksiyasini yozing, u k sonining raqamlari yig'indisini hisoblaydi.\n",
    "\n",
    "Misollar:\n",
    "Kiritish:\n",
    "24\n",
    "Natija:\n",
    "6\n",
    "(Izoh: 24 sonining raqamlari yig'indisi: 2 + 4 = 6.)\n",
    "\n",
    "Kiritish:\n",
    "502\n",
    "Natija:\n",
    "7\n",
    "(Izoh: 502 sonining raqamlari yig'indisi: 5 + 0 + 2 = 7.)"
   ]
  },
  {
   "cell_type": "code",
   "execution_count": 30,
   "id": "a3c6e92e",
   "metadata": {},
   "outputs": [
    {
     "data": {
      "text/plain": [
       "22.0"
      ]
     },
     "execution_count": 30,
     "metadata": {},
     "output_type": "execute_result"
    }
   ],
   "source": [
    "def digit_sum(k):\n",
    "    x=0     #parametr to add digits\n",
    "    while k>=1:\n",
    "        x=x+k%10\n",
    "        k=(k-k%10)/10\n",
    "    return x\n",
    "digit_sum(985)\n",
    "\n"
   ]
  },
  {
   "cell_type": "markdown",
   "id": "81f299c6",
   "metadata": {},
   "source": [
    "3. Ikki sonning darajalari\n",
    "Berilgan N sonidan oshmaydigan barcha 2 ning darajalarini (ya'ni, 2**k shaklidagi sonlarni) chop etuvchi funksiyani yozing.\n",
    "\n",
    "Misol:\n",
    "Kiritish:\n",
    "10\n",
    "Natija:\n",
    "2 4 8\n",
    "(Izoh: 10 dan kichik yoki teng bo'lgan 2 ning darajalari: 2, 4, 8.)"
   ]
  },
  {
   "cell_type": "code",
   "execution_count": 36,
   "id": "801205d7",
   "metadata": {},
   "outputs": [
    {
     "data": {
      "text/plain": [
       "[2, 4, 8, 16, 32, 64, 128, 256, 512, 1024, 2048]"
      ]
     },
     "execution_count": 36,
     "metadata": {},
     "output_type": "execute_result"
    }
   ],
   "source": [
    "def raise_power(n):\n",
    "    list1=[]\n",
    "    x=1\n",
    "    while x<=n/2:\n",
    "        x*=2\n",
    "        list1.append(x)\n",
    "    return list1\n",
    "\n",
    "raise_power(3000)"
   ]
  }
 ],
 "metadata": {
  "kernelspec": {
   "display_name": "Python 3",
   "language": "python",
   "name": "python3"
  },
  "language_info": {
   "codemirror_mode": {
    "name": "ipython",
    "version": 3
   },
   "file_extension": ".py",
   "mimetype": "text/x-python",
   "name": "python",
   "nbconvert_exporter": "python",
   "pygments_lexer": "ipython3",
   "version": "3.12.9"
  }
 },
 "nbformat": 4,
 "nbformat_minor": 5
}
